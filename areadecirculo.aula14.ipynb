{
 "cells": [
  {
   "cell_type": "code",
   "execution_count": 1,
   "id": "e5e78023",
   "metadata": {},
   "outputs": [
    {
     "name": "stdout",
     "output_type": "stream",
     "text": [
      "Please enter the circle radius25\n"
     ]
    }
   ],
   "source": [
    "radius = float(input('Please enter the circle radius'))\n",
    "pi = 3.14159\n",
    "\n",
    "area = pi * radius**2\n"
   ]
  },
  {
   "cell_type": "code",
   "execution_count": 2,
   "id": "caacdbbd",
   "metadata": {},
   "outputs": [
    {
     "name": "stdout",
     "output_type": "stream",
     "text": [
      "You entered 25.0 the area of the circle is 1963.4937499999999\n"
     ]
    }
   ],
   "source": [
    "print ('You entered', radius, 'the area of the circle is', area)"
   ]
  },
  {
   "cell_type": "code",
   "execution_count": null,
   "id": "e44c905d",
   "metadata": {},
   "outputs": [],
   "source": []
  }
 ],
 "metadata": {
  "kernelspec": {
   "display_name": "Python 3 (ipykernel)",
   "language": "python",
   "name": "python3"
  },
  "language_info": {
   "codemirror_mode": {
    "name": "ipython",
    "version": 3
   },
   "file_extension": ".py",
   "mimetype": "text/x-python",
   "name": "python",
   "nbconvert_exporter": "python",
   "pygments_lexer": "ipython3",
   "version": "3.9.13"
  }
 },
 "nbformat": 4,
 "nbformat_minor": 5
}
