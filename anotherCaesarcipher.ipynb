{
 "cells": [
  {
   "cell_type": "code",
   "execution_count": 4,
   "id": "3cbb6065-167c-49d8-8e78-7beaff240ed0",
   "metadata": {},
   "outputs": [
    {
     "name": "stdout",
     "output_type": "stream",
     "text": [
      "olssv dvysk\n"
     ]
    }
   ],
   "source": [
    "import string\n",
    "plain_text = 'hello world'\n",
    "shift = 7\n",
    "shift%=26\n",
    "\n",
    "alphabet = string.ascii_lowercase\n",
    "shifted = alphabet[shift:] + alphabet[:shift]\n",
    "table = str.maketrans(alphabet, shifted)\n",
    "\n",
    "encrypted = plain_text.translate(table)\n",
    "\n",
    "print(encrypted)"
   ]
  },
  {
   "cell_type": "code",
   "execution_count": 5,
   "id": "d74247b9-b208-43a8-9bc8-069b3c6d1dd9",
   "metadata": {},
   "outputs": [
    {
     "name": "stdout",
     "output_type": "stream",
     "text": [
      "hello world\n"
     ]
    }
   ],
   "source": [
    "#to make it normal again\n",
    "import string\n",
    "plain_text = 'olssv dvysk'\n",
    "shift = 26 - 7\n",
    "shift%=26\n",
    "\n",
    "alphabet = string.ascii_lowercase\n",
    "shifted = alphabet[shift:] + alphabet[:shift]\n",
    "table = str.maketrans(alphabet, shifted)\n",
    "\n",
    "encrypted = plain_text.translate(table)\n",
    "\n",
    "print(encrypted)"
   ]
  },
  {
   "cell_type": "code",
   "execution_count": 8,
   "id": "6b572f26-c3c9-443a-9106-28ef8c76e3d8",
   "metadata": {},
   "outputs": [
    {
     "name": "stdout",
     "output_type": "stream",
     "text": [
      "Aopz pz h uld alza= Olssv dvysk(\n"
     ]
    }
   ],
   "source": [
    "import string\n",
    "def caesar(text, shift, alphabets):\n",
    "    def shift_alphabet(alphabet):\n",
    "        return alphabet[shift:] + alphabet[:shift]\n",
    "    shifted_alphabets = tuple(map(shift_alphabet, alphabets))\n",
    "    final_alphabet = ' '.join(alphabets)\n",
    "    final_shifted_alphabet = ' '.join(shifted_alphabets)\n",
    "    table = str.maketrans(final_alphabet, final_shifted_alphabet)\n",
    "    return text.translate(table)\n",
    "\n",
    "plain_text = 'This is a new test, Hello world!'\n",
    "print(caesar(plain_text, 7, [string.ascii_lowercase, string.ascii_uppercase, string.punctuation]))"
   ]
  },
  {
   "cell_type": "code",
   "execution_count": null,
   "id": "af6a7f28-cd47-4287-9004-9a9a45661717",
   "metadata": {},
   "outputs": [],
   "source": []
  }
 ],
 "metadata": {
  "kernelspec": {
   "display_name": "Python 3 (ipykernel)",
   "language": "python",
   "name": "python3"
  },
  "language_info": {
   "codemirror_mode": {
    "name": "ipython",
    "version": 3
   },
   "file_extension": ".py",
   "mimetype": "text/x-python",
   "name": "python",
   "nbconvert_exporter": "python",
   "pygments_lexer": "ipython3",
   "version": "3.9.13"
  }
 },
 "nbformat": 4,
 "nbformat_minor": 5
}
