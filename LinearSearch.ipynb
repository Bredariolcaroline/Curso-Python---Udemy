{
 "cells": [
  {
   "cell_type": "code",
   "execution_count": 19,
   "id": "2abc45f5",
   "metadata": {},
   "outputs": [],
   "source": [
    "def linear_search(item, my_list):\n",
    "    i = 0\n",
    "    found = False\n",
    "    \n",
    "    while i < len(my_list) and found == False:\n",
    "        if my_list[i] == item:\n",
    "            found = True\n",
    "        else:\n",
    "            i = i + 1\n",
    "        return found"
   ]
  },
  {
   "cell_type": "code",
   "execution_count": 18,
   "id": "36ac7dde",
   "metadata": {},
   "outputs": [
    {
     "name": "stdout",
     "output_type": "stream",
     "text": [
      "False\n",
      "False\n"
     ]
    }
   ],
   "source": [
    "test = [6,5,8,2,3,45,87,24,70]\n",
    "print(linear_search(87,test))\n",
    "print(linear_search(88,test)) #nao funcionou, deveria ser true e false"
   ]
  },
  {
   "cell_type": "code",
   "execution_count": 20,
   "id": "368276ac",
   "metadata": {},
   "outputs": [],
   "source": [
    "#Binary Search\n",
    "def binary_search(item,my_list):\n",
    "    found = False\n",
    "    first = 0\n",
    "    last = len(my_list) -1 \n",
    "    \n",
    "    while first <= last and found == False:\n",
    "        midpoint = (first + last)//2\n",
    "        if my_list[midpoint] == item:\n",
    "            found = True\n",
    "        else:\n",
    "            if my_list[midpoint] < item:\n",
    "                first = midpoint + 1\n",
    "            else:\n",
    "                last = midpoint -1 \n",
    "    return found\n",
    "    "
   ]
  },
  {
   "cell_type": "code",
   "execution_count": 21,
   "id": "aa843c8c",
   "metadata": {},
   "outputs": [
    {
     "name": "stdout",
     "output_type": "stream",
     "text": [
      "True\n",
      "False\n"
     ]
    }
   ],
   "source": [
    "test = [6,5,8,2,3,45,87,74,70]\n",
    "print(binary_search(87,test))\n",
    "print(binary_search(88,test))"
   ]
  },
  {
   "cell_type": "code",
   "execution_count": null,
   "id": "061a9be9",
   "metadata": {},
   "outputs": [],
   "source": []
  }
 ],
 "metadata": {
  "kernelspec": {
   "display_name": "Python 3 (ipykernel)",
   "language": "python",
   "name": "python3"
  },
  "language_info": {
   "codemirror_mode": {
    "name": "ipython",
    "version": 3
   },
   "file_extension": ".py",
   "mimetype": "text/x-python",
   "name": "python",
   "nbconvert_exporter": "python",
   "pygments_lexer": "ipython3",
   "version": "3.9.13"
  }
 },
 "nbformat": 4,
 "nbformat_minor": 5
}
