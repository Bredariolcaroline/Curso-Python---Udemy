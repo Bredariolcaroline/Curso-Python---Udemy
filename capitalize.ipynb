{
 "cells": [
  {
   "cell_type": "code",
   "execution_count": 1,
   "id": "d3bb5ac4",
   "metadata": {},
   "outputs": [
    {
     "name": "stdout",
     "output_type": "stream",
     "text": [
      "Abc def\n"
     ]
    }
   ],
   "source": [
    "print('abc DEF'.capitalize())"
   ]
  },
  {
   "cell_type": "code",
   "execution_count": 2,
   "id": "58634aaa",
   "metadata": {},
   "outputs": [
    {
     "name": "stdout",
     "output_type": "stream",
     "text": [
      "120.0\n"
     ]
    }
   ],
   "source": [
    "a = 100/5\n",
    "b = 20//3\n",
    "print (a * b)"
   ]
  },
  {
   "cell_type": "code",
   "execution_count": 4,
   "id": "f20674f9",
   "metadata": {},
   "outputs": [
    {
     "name": "stdout",
     "output_type": "stream",
     "text": [
      "Enter a number: 123\n",
      "Reversed number: 3\n",
      "Reversed number: 32\n",
      "Reversed number: 321\n"
     ]
    }
   ],
   "source": [
    "number = int(input('Enter a number: '))\n",
    "res_num = 0\n",
    "while number > 0:\n",
    "    reminder = number % 10\n",
    "    res_num = res_num*10 + reminder\n",
    "    number //=10\n",
    "    \n",
    "    print(f'Reversed number: {res_num}')"
   ]
  },
  {
   "cell_type": "code",
   "execution_count": 5,
   "id": "78b50ff7",
   "metadata": {},
   "outputs": [
    {
     "name": "stdout",
     "output_type": "stream",
     "text": [
      "42\n"
     ]
    }
   ],
   "source": [
    "x, y = 2,10\n",
    "x *= y * x + 1\n",
    "print(x)"
   ]
  },
  {
   "cell_type": "code",
   "execution_count": 10,
   "id": "4a3f7002",
   "metadata": {},
   "outputs": [
    {
     "name": "stdout",
     "output_type": "stream",
     "text": [
      "22\n"
     ]
    }
   ],
   "source": [
    "def fun():\n",
    "    for x in range (22,23,24):\n",
    "        print(x)\n",
    "fun()"
   ]
  },
  {
   "cell_type": "code",
   "execution_count": null,
   "id": "1974e57d",
   "metadata": {},
   "outputs": [],
   "source": []
  }
 ],
 "metadata": {
  "kernelspec": {
   "display_name": "Python 3 (ipykernel)",
   "language": "python",
   "name": "python3"
  },
  "language_info": {
   "codemirror_mode": {
    "name": "ipython",
    "version": 3
   },
   "file_extension": ".py",
   "mimetype": "text/x-python",
   "name": "python",
   "nbconvert_exporter": "python",
   "pygments_lexer": "ipython3",
   "version": "3.9.13"
  }
 },
 "nbformat": 4,
 "nbformat_minor": 5
}
