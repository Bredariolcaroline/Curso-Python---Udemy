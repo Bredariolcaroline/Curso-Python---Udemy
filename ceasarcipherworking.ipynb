{
 "cells": [
  {
   "cell_type": "markdown",
   "id": "171ac629-07bd-4214-9d96-0f7906e68ea5",
   "metadata": {
    "tags": []
   },
   "source": [
    "def encrypt_text(plaintext, n):\n",
    "    ans = ' '\n",
    "    for i in range (len(plaintext)):\n",
    "        ch = plaintext[i]\n",
    "        \n",
    "        if ch == ' ':\n",
    "            ans +=' ' \n",
    "        elif(ch.isupper()):\n",
    "            ans += chr((ord(ch) + n-65)%26 +65)\n",
    "        else:\n",
    "            ans += chr((ord(ch) + n-97) %26 +97)\n",
    "    return ans\n",
    "plaintext = 'hello everyone'\n",
    "n = 1\n",
    "print('Plain text is : ' +plaintext)\n",
    "print('Shift pattern is: ' +str(n))\n",
    "print('Cipher text is:' + encrypt_text(plaintext, n))\n",
    "        \n"
   ]
  },
  {
   "cell_type": "code",
   "execution_count": 3,
   "id": "39fd64d8-df63-44c0-a50d-c0b75c6257b2",
   "metadata": {},
   "outputs": [
    {
     "name": "stdout",
     "output_type": "stream",
     "text": [
      "Plain text is : the cat sat on the mat\n",
      "Shift pattern is: 4\n",
      "Cipher text is: xli gex wex sr xli qex\n"
     ]
    }
   ],
   "source": [
    "def encrypt_text(plaintext, n):\n",
    "    ans = ' '\n",
    "    for i in range (len(plaintext)):\n",
    "        ch = plaintext[i]\n",
    "        \n",
    "        if ch == ' ':\n",
    "            ans +=' ' \n",
    "        elif(ch.isupper()):\n",
    "            ans += chr((ord(ch) + n-65)%26 +65)\n",
    "        else:\n",
    "            ans += chr((ord(ch) + n-97) %26 +97)\n",
    "    return ans\n",
    "plaintext = 'the cat sat on the mat'\n",
    "n = 4\n",
    "print('Plain text is : ' +plaintext)\n",
    "print('Shift pattern is: ' +str(n))\n",
    "print('Cipher text is:' + encrypt_text(plaintext, n))\n",
    "        "
   ]
  },
  {
   "cell_type": "code",
   "execution_count": null,
   "id": "cd3b5762-3e7f-4e46-8532-565138570927",
   "metadata": {},
   "outputs": [],
   "source": []
  }
 ],
 "metadata": {
  "kernelspec": {
   "display_name": "Python 3 (ipykernel)",
   "language": "python",
   "name": "python3"
  },
  "language_info": {
   "codemirror_mode": {
    "name": "ipython",
    "version": 3
   },
   "file_extension": ".py",
   "mimetype": "text/x-python",
   "name": "python",
   "nbconvert_exporter": "python",
   "pygments_lexer": "ipython3",
   "version": "3.9.13"
  }
 },
 "nbformat": 4,
 "nbformat_minor": 5
}
