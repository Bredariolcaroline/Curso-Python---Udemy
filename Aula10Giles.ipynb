{
 "cells": [
  {
   "cell_type": "code",
   "execution_count": 2,
   "id": "cf0256e5",
   "metadata": {},
   "outputs": [
    {
     "name": "stdout",
     "output_type": "stream",
     "text": [
      "Hello\n"
     ]
    }
   ],
   "source": [
    "print('Hello')\n"
   ]
  },
  {
   "cell_type": "code",
   "execution_count": 3,
   "id": "3bc3f32e",
   "metadata": {},
   "outputs": [
    {
     "name": "stdout",
     "output_type": "stream",
     "text": [
      "2.3333333333333335\n"
     ]
    }
   ],
   "source": [
    "print(7/3)"
   ]
  },
  {
   "cell_type": "code",
   "execution_count": 4,
   "id": "1875b1a6",
   "metadata": {},
   "outputs": [
    {
     "name": "stdout",
     "output_type": "stream",
     "text": [
      "2\n"
     ]
    }
   ],
   "source": [
    "print(7//3)"
   ]
  },
  {
   "cell_type": "code",
   "execution_count": 7,
   "id": "c54d36bd",
   "metadata": {},
   "outputs": [
    {
     "name": "stdout",
     "output_type": "stream",
     "text": [
      "One,'two','three',four,\\five\\\n",
      "\tonce,'I'caught afish\n",
      "\t\t'//alive\\\\'\n"
     ]
    }
   ],
   "source": [
    "print('One,\\'two\\',\\'three\\',four,\\\\five\\\\\\n\\tonce,\\'I\\'caught a\\\n",
    "fish\\n\\t\\t\\'//alive\\\\\\\\\\'')\n"
   ]
  },
  {
   "cell_type": "code",
   "execution_count": null,
   "id": "090796f7",
   "metadata": {},
   "outputs": [],
   "source": []
  }
 ],
 "metadata": {
  "kernelspec": {
   "display_name": "Python 3 (ipykernel)",
   "language": "python",
   "name": "python3"
  },
  "language_info": {
   "codemirror_mode": {
    "name": "ipython",
    "version": 3
   },
   "file_extension": ".py",
   "mimetype": "text/x-python",
   "name": "python",
   "nbconvert_exporter": "python",
   "pygments_lexer": "ipython3",
   "version": "3.9.13"
  }
 },
 "nbformat": 4,
 "nbformat_minor": 5
}
