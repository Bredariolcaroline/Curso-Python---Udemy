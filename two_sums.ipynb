{
 "cells": [
  {
   "cell_type": "code",
   "execution_count": 8,
   "id": "0943d285-eff3-40ea-9c69-ca24c0c74f04",
   "metadata": {},
   "outputs": [],
   "source": [
    "def two_sum(nums, target):\n",
    "    d = {}\n",
    "    \n",
    "    for i in range(len(nums)):\n",
    "        if target - nums[i] in d:\n",
    "            print(d)\n",
    "            return [d[target - nums[i]], i]\n",
    "        d[nums[i]] = i\n",
    "    return -1"
   ]
  },
  {
   "cell_type": "code",
   "execution_count": 10,
   "id": "543d6c23-06fe-411c-b3c2-66eebbb9b1a2",
   "metadata": {},
   "outputs": [
    {
     "name": "stdout",
     "output_type": "stream",
     "text": [
      "{20: 0, 15: 1, 32: 2}\n",
      "[0, 3]\n"
     ]
    }
   ],
   "source": [
    "L = [20,15,32,45]\n",
    "print(two_sum(L,65))"
   ]
  },
  {
   "cell_type": "code",
   "execution_count": 11,
   "id": "f2c3199d-c23c-4926-96fb-171b4a0830d8",
   "metadata": {},
   "outputs": [
    {
     "name": "stdout",
     "output_type": "stream",
     "text": [
      "-1\n"
     ]
    }
   ],
   "source": [
    "L2 = [20,15,32,45]\n",
    "print(two_sum(L2, 30))"
   ]
  },
  {
   "cell_type": "code",
   "execution_count": null,
   "id": "83e155b0-0e3d-43cc-8fe5-3b3375490617",
   "metadata": {},
   "outputs": [],
   "source": []
  }
 ],
 "metadata": {
  "kernelspec": {
   "display_name": "Python 3 (ipykernel)",
   "language": "python",
   "name": "python3"
  },
  "language_info": {
   "codemirror_mode": {
    "name": "ipython",
    "version": 3
   },
   "file_extension": ".py",
   "mimetype": "text/x-python",
   "name": "python",
   "nbconvert_exporter": "python",
   "pygments_lexer": "ipython3",
   "version": "3.9.13"
  }
 },
 "nbformat": 4,
 "nbformat_minor": 5
}
