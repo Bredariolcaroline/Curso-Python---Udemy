{
 "cells": [
  {
   "cell_type": "code",
   "execution_count": 1,
   "id": "90f27009",
   "metadata": {},
   "outputs": [
    {
     "name": "stdout",
     "output_type": "stream",
     "text": [
      "True\n"
     ]
    }
   ],
   "source": [
    "a = True\n",
    "b = False\n",
    "print(a or b and b and a)"
   ]
  },
  {
   "cell_type": "code",
   "execution_count": 2,
   "id": "3395f502",
   "metadata": {},
   "outputs": [
    {
     "name": "stdout",
     "output_type": "stream",
     "text": [
      "[1, 2, 3, 4] [1, 2, 3, 4]\n"
     ]
    }
   ],
   "source": [
    "a = [1,2,3]\n",
    "b = a\n",
    "\n",
    "b.append(4)\n",
    "print(a,b)"
   ]
  },
  {
   "cell_type": "code",
   "execution_count": 4,
   "id": "6afbd3b4",
   "metadata": {},
   "outputs": [
    {
     "name": "stdout",
     "output_type": "stream",
     "text": [
      "[1, 2, 3]\n",
      "[1, 2, 3, 4]\n"
     ]
    }
   ],
   "source": [
    "a = [1,2,3]\n",
    "b = a.copy()\n",
    "b.append(4)\n",
    "print(a)\n",
    "print(b)"
   ]
  },
  {
   "cell_type": "code",
   "execution_count": 12,
   "id": "ef884b77",
   "metadata": {},
   "outputs": [],
   "source": [
    "A = [[5,4,3],\n",
    "    [2,4,6],\n",
    "    [4,7,9],\n",
    "    [8,1,3]]"
   ]
  },
  {
   "cell_type": "code",
   "execution_count": 15,
   "id": "b4a33f23",
   "metadata": {},
   "outputs": [],
   "source": [
    "transResult = [[0,0,0,0],\n",
    "              [0,0,0,0],\n",
    "              [0,0,0,0]"
   ]
  },
  {
   "cell_type": "code",
   "execution_count": 19,
   "id": "78a61733",
   "metadata": {},
   "outputs": [
    {
     "name": "stdout",
     "output_type": "stream",
     "text": [
      "The transpose of matrix A is: \n",
      "[5, 2, 4, 8]\n",
      "[4, 4, 7, 1]\n",
      "[3, 6, 9, 3]\n"
     ]
    }
   ],
   "source": [
    "for a in range(len(A)):\n",
    "    for b in range(len(A[0])):\n",
    "        transResult[b][a] = A[a][b]\n",
    "        \n",
    "print('The transpose of matrix A is: ')\n",
    "for res in transResult:\n",
    "    print(res)"
   ]
  },
  {
   "cell_type": "code",
   "execution_count": 20,
   "id": "0b020b3f",
   "metadata": {},
   "outputs": [
    {
     "name": "stdout",
     "output_type": "stream",
     "text": [
      "16\n"
     ]
    }
   ],
   "source": [
    "def my_func(num):\n",
    "    return num*2\n",
    "result = my_func(2)\n",
    "result = my_func(result)\n",
    "result = my_func(result)\n",
    "print(result)"
   ]
  },
  {
   "cell_type": "code",
   "execution_count": 21,
   "id": "2cf98d65",
   "metadata": {},
   "outputs": [
    {
     "name": "stdout",
     "output_type": "stream",
     "text": [
      "True\n"
     ]
    }
   ],
   "source": [
    "a = 'python'\n",
    "b = 'pythoN'\n",
    "\n",
    "print(a>b)"
   ]
  },
  {
   "cell_type": "code",
   "execution_count": null,
   "id": "f5dbcdd2",
   "metadata": {},
   "outputs": [
    {
     "name": "stdout",
     "output_type": "stream",
     "text": [
      "Enter a number: 123\n"
     ]
    }
   ],
   "source": [
    "num = int(input('Enter a number: '))\n",
    "\n",
    "sum = 0\n",
    "\n",
    "temp = num\n",
    "while temp > 0:\n",
    "    digit = temp % 10\n",
    "    sum += digit **3\n",
    "    \n",
    "if num == sum:\n",
    "    print(num, 'is an Armstrong number')\n",
    "else:\n",
    "    print(num, 'is not an Armstrong number')"
   ]
  },
  {
   "cell_type": "code",
   "execution_count": null,
   "id": "9f94bc8e",
   "metadata": {},
   "outputs": [],
   "source": []
  }
 ],
 "metadata": {
  "kernelspec": {
   "display_name": "Python 3 (ipykernel)",
   "language": "python",
   "name": "python3"
  },
  "language_info": {
   "codemirror_mode": {
    "name": "ipython",
    "version": 3
   },
   "file_extension": ".py",
   "mimetype": "text/x-python",
   "name": "python",
   "nbconvert_exporter": "python",
   "pygments_lexer": "ipython3",
   "version": "3.9.13"
  }
 },
 "nbformat": 4,
 "nbformat_minor": 5
}
