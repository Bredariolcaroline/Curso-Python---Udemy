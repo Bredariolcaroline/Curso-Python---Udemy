{
 "cells": [
  {
   "cell_type": "code",
   "execution_count": 1,
   "id": "e1d51322",
   "metadata": {},
   "outputs": [],
   "source": [
    "def bubble_sort(my_list):\n",
    "    swap_again = True\n",
    "    n = len(my_list)\n",
    "    while n > 0 and swap_again == True:\n",
    "        n = n -1\n",
    "        swap_again == False\n",
    "    \n",
    "        for i in range(n):\n",
    "            if my_list[i] > my_list[i+1]:\n",
    "                my_list [i], my_list[i+1] =my_list[i+1], my_list[i]\n",
    "                swap_again = True\n",
    "    return my_list"
   ]
  },
  {
   "cell_type": "code",
   "execution_count": 4,
   "id": "019ebfbf",
   "metadata": {},
   "outputs": [
    {
     "name": "stdout",
     "output_type": "stream",
     "text": [
      "[2, 3, 5, 6, 8, 24, 45, 70, 87]\n"
     ]
    }
   ],
   "source": [
    "test_2 = [70,24,87,45,6,3,2,8,5]\n",
    "print(bubble_sort(test_2))"
   ]
  },
  {
   "cell_type": "code",
   "execution_count": 4,
   "id": "a495e0f9",
   "metadata": {},
   "outputs": [
    {
     "name": "stdout",
     "output_type": "stream",
     "text": [
      "[12, 19, 29, 30, 35]\n"
     ]
    }
   ],
   "source": [
    "test1 = [29,30,35,19,12]\n",
    "print(bubble_sort(test1))"
   ]
  },
  {
   "cell_type": "code",
   "execution_count": 7,
   "id": "ee6416c2",
   "metadata": {},
   "outputs": [],
   "source": [
    "def insertion_sort(my_list):\n",
    "    n = len(my_list)\n",
    "    for i in range(1,n):\n",
    "        value = my_list[i]\n",
    "        j = i \n",
    "        while  j > 0 and my_list[j-1] > value:\n",
    "            my_list[j] = my_list[j-1]\n",
    "            j = j - 1\n",
    "        my_list[j] = value\n",
    "    return my_list\n",
    "            "
   ]
  },
  {
   "cell_type": "code",
   "execution_count": 8,
   "id": "2122b2b4",
   "metadata": {},
   "outputs": [
    {
     "name": "stdout",
     "output_type": "stream",
     "text": [
      "[2, 3, 5, 6, 8, 24, 45, 70, 87]\n"
     ]
    }
   ],
   "source": [
    "test_2 = [70,24,87,45,6,3,2,8,5]\n",
    "print(bubble_sort(test_2))"
   ]
  },
  {
   "cell_type": "code",
   "execution_count": null,
   "id": "4dab8887",
   "metadata": {},
   "outputs": [],
   "source": []
  }
 ],
 "metadata": {
  "kernelspec": {
   "display_name": "Python 3 (ipykernel)",
   "language": "python",
   "name": "python3"
  },
  "language_info": {
   "codemirror_mode": {
    "name": "ipython",
    "version": 3
   },
   "file_extension": ".py",
   "mimetype": "text/x-python",
   "name": "python",
   "nbconvert_exporter": "python",
   "pygments_lexer": "ipython3",
   "version": "3.9.13"
  }
 },
 "nbformat": 4,
 "nbformat_minor": 5
}
