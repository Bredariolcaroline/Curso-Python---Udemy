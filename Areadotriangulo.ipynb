{
 "cells": [
  {
   "cell_type": "code",
   "execution_count": 1,
   "id": "bb02621d",
   "metadata": {},
   "outputs": [
    {
     "name": "stdout",
     "output_type": "stream",
     "text": [
      "Entre com o valor da base25\n",
      "25.0\n"
     ]
    }
   ],
   "source": [
    "base = float(input('Entre com o valor da base'))\n",
    "print(base)"
   ]
  },
  {
   "cell_type": "code",
   "execution_count": 2,
   "id": "987adfad",
   "metadata": {},
   "outputs": [
    {
     "name": "stdout",
     "output_type": "stream",
     "text": [
      "Entre com o valor da altura20\n",
      "20.0\n"
     ]
    }
   ],
   "source": [
    "altura = float(input('Entre com o valor da altura'))\n",
    "print(altura)"
   ]
  },
  {
   "cell_type": "code",
   "execution_count": 4,
   "id": "3c405fa8",
   "metadata": {},
   "outputs": [
    {
     "name": "stdout",
     "output_type": "stream",
     "text": [
      "a area do triangulo é: 250.0\n"
     ]
    }
   ],
   "source": [
    "area = base * altura / 2\n",
    "print('a area do triangulo é:', area)"
   ]
  },
  {
   "cell_type": "code",
   "execution_count": null,
   "id": "ec9998c0",
   "metadata": {},
   "outputs": [],
   "source": []
  }
 ],
 "metadata": {
  "kernelspec": {
   "display_name": "Python 3 (ipykernel)",
   "language": "python",
   "name": "python3"
  },
  "language_info": {
   "codemirror_mode": {
    "name": "ipython",
    "version": 3
   },
   "file_extension": ".py",
   "mimetype": "text/x-python",
   "name": "python",
   "nbconvert_exporter": "python",
   "pygments_lexer": "ipython3",
   "version": "3.9.13"
  }
 },
 "nbformat": 4,
 "nbformat_minor": 5
}
