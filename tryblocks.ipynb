{
 "cells": [
  {
   "cell_type": "code",
   "execution_count": 2,
   "id": "9a49cef2",
   "metadata": {},
   "outputs": [
    {
     "data": {
      "text/plain": [
       "1.5"
      ]
     },
     "execution_count": 2,
     "metadata": {},
     "output_type": "execute_result"
    }
   ],
   "source": [
    "def division (x:float, y:float) ->float:\n",
    "    return x/y\n",
    "division(3.0,2.0)"
   ]
  },
  {
   "cell_type": "code",
   "execution_count": 3,
   "id": "93fed35a",
   "metadata": {},
   "outputs": [
    {
     "name": "stdout",
     "output_type": "stream",
     "text": [
      "Cannot divide by zero\n"
     ]
    }
   ],
   "source": [
    "try:\n",
    "    division(3,0)\n",
    "except ZeroDivisionError:\n",
    "    print('Cannot divide by zero')"
   ]
  },
  {
   "cell_type": "code",
   "execution_count": 4,
   "id": "eb06bf12",
   "metadata": {},
   "outputs": [
    {
     "ename": "ZeroDivisionError",
     "evalue": "division by zero",
     "output_type": "error",
     "traceback": [
      "\u001b[1;31m---------------------------------------------------------------------------\u001b[0m",
      "\u001b[1;31mZeroDivisionError\u001b[0m                         Traceback (most recent call last)",
      "\u001b[1;32m~\\AppData\\Local\\Temp\\ipykernel_2016\\2609404839.py\u001b[0m in \u001b[0;36m<module>\u001b[1;34m\u001b[0m\n\u001b[1;32m----> 1\u001b[1;33m \u001b[0mdivision\u001b[0m\u001b[1;33m(\u001b[0m\u001b[1;36m3\u001b[0m\u001b[1;33m,\u001b[0m\u001b[1;36m0\u001b[0m\u001b[1;33m)\u001b[0m\u001b[1;33m\u001b[0m\u001b[1;33m\u001b[0m\u001b[0m\n\u001b[0m",
      "\u001b[1;32m~\\AppData\\Local\\Temp\\ipykernel_2016\\1485241790.py\u001b[0m in \u001b[0;36mdivision\u001b[1;34m(x, y)\u001b[0m\n\u001b[0;32m      1\u001b[0m \u001b[1;32mdef\u001b[0m \u001b[0mdivision\u001b[0m \u001b[1;33m(\u001b[0m\u001b[0mx\u001b[0m\u001b[1;33m:\u001b[0m\u001b[0mfloat\u001b[0m\u001b[1;33m,\u001b[0m \u001b[0my\u001b[0m\u001b[1;33m:\u001b[0m\u001b[0mfloat\u001b[0m\u001b[1;33m)\u001b[0m \u001b[1;33m->\u001b[0m\u001b[0mfloat\u001b[0m\u001b[1;33m:\u001b[0m\u001b[1;33m\u001b[0m\u001b[1;33m\u001b[0m\u001b[0m\n\u001b[1;32m----> 2\u001b[1;33m     \u001b[1;32mreturn\u001b[0m \u001b[0mx\u001b[0m\u001b[1;33m/\u001b[0m\u001b[0my\u001b[0m\u001b[1;33m\u001b[0m\u001b[1;33m\u001b[0m\u001b[0m\n\u001b[0m\u001b[0;32m      3\u001b[0m \u001b[0mdivision\u001b[0m\u001b[1;33m(\u001b[0m\u001b[1;36m3.0\u001b[0m\u001b[1;33m,\u001b[0m\u001b[1;36m2.0\u001b[0m\u001b[1;33m)\u001b[0m\u001b[1;33m\u001b[0m\u001b[1;33m\u001b[0m\u001b[0m\n",
      "\u001b[1;31mZeroDivisionError\u001b[0m: division by zero"
     ]
    }
   ],
   "source": [
    "division(3,0)"
   ]
  },
  {
   "cell_type": "code",
   "execution_count": 9,
   "id": "78f99bdd",
   "metadata": {},
   "outputs": [
    {
     "name": "stdout",
     "output_type": "stream",
     "text": [
      "Entering my block\n",
      "Program finished without error\n",
      "That concludes this code block\n"
     ]
    }
   ],
   "source": [
    "print('Entering my block')\n",
    "try:\n",
    "    division(4.0,2.0)\n",
    "except ZeroDivisionError as err:\n",
    "    print(err)\n",
    "    print('Cannot divide by zero')\n",
    "except TypeError as t_err:\n",
    "    print(t_err)\n",
    "    print('Please enter a number')\n",
    "else: \n",
    "    print('Program finished without error')\n",
    "finally:\n",
    "    print('That concludes this code block')"
   ]
  },
  {
   "cell_type": "code",
   "execution_count": 10,
   "id": "f9844492",
   "metadata": {},
   "outputs": [
    {
     "name": "stdout",
     "output_type": "stream",
     "text": [
      "Entering my block\n",
      "float division by zero\n",
      "Cannot divide by zero\n",
      "That concludes this code block\n"
     ]
    }
   ],
   "source": [
    "print('Entering my block')\n",
    "try:\n",
    "    division(4.0,0)\n",
    "except ZeroDivisionError as err:\n",
    "    print(err)\n",
    "    print('Cannot divide by zero')\n",
    "except TypeError as t_err:\n",
    "    print(t_err)\n",
    "    print('Please enter a number')\n",
    "else: \n",
    "    print('Program finished without error')\n",
    "finally:\n",
    "    print('That concludes this code block')"
   ]
  },
  {
   "cell_type": "code",
   "execution_count": 11,
   "id": "ceabf441",
   "metadata": {},
   "outputs": [
    {
     "name": "stdout",
     "output_type": "stream",
     "text": [
      "Please enter a number:65\n"
     ]
    }
   ],
   "source": [
    "while True:\n",
    "    try:\n",
    "        x = int(input('Please enter a number:'))\n",
    "        break\n",
    "    except ValueError:\n",
    "        print('Oops! That was not a valid number. Try again')"
   ]
  },
  {
   "cell_type": "code",
   "execution_count": 12,
   "id": "2c22a982",
   "metadata": {},
   "outputs": [
    {
     "name": "stdout",
     "output_type": "stream",
     "text": [
      "Please enter a number:lua\n",
      "Oops! That was not a valid number. Try again\n",
      "Please enter a number:mel\n",
      "Oops! That was not a valid number. Try again\n",
      "Please enter a number:65\n"
     ]
    }
   ],
   "source": [
    "while True:\n",
    "    try:\n",
    "        x = int(input('Please enter a number:'))\n",
    "        break\n",
    "    except ValueError:\n",
    "        print('Oops! That was not a valid number. Try again')"
   ]
  },
  {
   "cell_type": "code",
   "execution_count": 13,
   "id": "301114b9",
   "metadata": {},
   "outputs": [
    {
     "name": "stdout",
     "output_type": "stream",
     "text": [
      "Only integers are allowed\n"
     ]
    }
   ],
   "source": [
    "try:\n",
    "    x = 'My name is Caroline'\n",
    "    \n",
    "    if not type(x) is int:\n",
    "        raise TypeError('Only integers are allowed')\n",
    "except TypeError as e:\n",
    "    print(e)\n",
    "else:\n",
    "    print('Valid input')"
   ]
  },
  {
   "cell_type": "code",
   "execution_count": null,
   "id": "9b3d268a",
   "metadata": {},
   "outputs": [],
   "source": []
  }
 ],
 "metadata": {
  "kernelspec": {
   "display_name": "Python 3 (ipykernel)",
   "language": "python",
   "name": "python3"
  },
  "language_info": {
   "codemirror_mode": {
    "name": "ipython",
    "version": 3
   },
   "file_extension": ".py",
   "mimetype": "text/x-python",
   "name": "python",
   "nbconvert_exporter": "python",
   "pygments_lexer": "ipython3",
   "version": "3.9.13"
  }
 },
 "nbformat": 4,
 "nbformat_minor": 5
}
